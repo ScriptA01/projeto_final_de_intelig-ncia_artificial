{
  "cells": [
    {
      "cell_type": "markdown",
      "metadata": {
        "id": "view-in-github",
        "colab_type": "text"
      },
      "source": [
        "<a href=\"https://colab.research.google.com/github/ScriptA01/projeto_final_de_intelig-ncia_artificial/blob/main/projeto.ipynb\" target=\"_parent\"><img src=\"https://colab.research.google.com/assets/colab-badge.svg\" alt=\"Open In Colab\"/></a>"
      ]
    },
    {
      "cell_type": "code",
      "execution_count": null,
      "metadata": {
        "id": "8gUim3aUhK3p"
      },
      "outputs": [],
      "source": [
        "\n",
        " #definem as listas x e y\n",
        "x = [1,2,3,4,5]\n",
        "y = [6,7,8,9,10]"
      ]
    },
    {
      "cell_type": "markdown",
      "source": [
        "#FASE01"
      ],
      "metadata": {
        "id": "egzg2Be_a3Wn"
      }
    },
    {
      "cell_type": "code",
      "source": [],
      "metadata": {
        "id": "2VCTYS2r71RO"
      },
      "execution_count": null,
      "outputs": []
    },
    {
      "cell_type": "code",
      "execution_count": null,
      "metadata": {
        "id": "o512YWezVGoa",
        "colab": {
          "base_uri": "https://localhost:8080/"
        },
        "outputId": "44f76f11-f638-4572-d6e7-9990b68ba030"
      },
      "outputs": [
        {
          "output_type": "stream",
          "name": "stdout",
          "text": [
            "5\n",
            "130\n",
            "55\n",
            "330\n",
            "15\n",
            "40\n"
          ]
        }
      ],
      "source": [
        "#CALC de n\n",
        "# calcula o valor de n\n",
        "n = len(x)\n",
        "\n",
        "print(n) #exibe o valor de n\n",
        "\n",
        "#CALC Soma de X*Y\n",
        "multiplic = list(map(lambda x,y : x*y, x, y)) #calcula a soma dos produtos de cada elemento x pelo y\n",
        "\n",
        "soma_XxY = sum(multiplic) # calcula a soma de todos os elementos da lista\n",
        "\n",
        "print(soma_XxY) #exibe o valor da soma\n",
        "\n",
        "#CALC Soma de X²\n",
        "soma_x2 = sum(list(map(lambda x : x**2, x))) #Essa linha calcula a soma de todos os elementos da lista\n",
        "\n",
        "print(soma_x2) # xibe o valor da soma dos quadrados de x\n",
        "\n",
        "#CALC Soma de y²\n",
        "\n",
        "soma_y2 = sum(list(map(lambda y : y**2, y))) #calcula a soma dos produtos de cada elemento y pelo y**2\n",
        "\n",
        "print(soma_y2) # xibe o valor da soma dos quadrados de y\n",
        "\n",
        "#CALC Soma de x\n",
        "\n",
        "soma_x = sum(x) #calcula a soma de todos os elementos da lista x\n",
        "print(soma_x) #exibe o valor da soma de x\n",
        "\n",
        "#CALC Soma de y\n",
        "soma_y = sum(y) #alcula a soma de todos os elementos da lista y\n",
        "print(soma_y) # exibe o valor da soma de y"
      ]
    },
    {
      "cell_type": "code",
      "source": [
        "#FASE02"
      ],
      "metadata": {
        "id": "ydQ8baPRzNVV"
      },
      "execution_count": null,
      "outputs": []
    },
    {
      "cell_type": "code",
      "source": [
        "#Nicolas\n",
        "Rn = (n*soma_XxY)-(soma_x*soma_y)\n",
        "def raiz_quadrada(S):\n",
        "    x = S/2  # aproximação inicial\n",
        "    while True:\n",
        "        x_novo = (x + (S/x))/2\n",
        "        if abs(x_novo - x) < 1e-6:  # critério de parada\n",
        "            break\n",
        "        x = x_novo\n",
        "    return x_novo\n",
        "Rd =  (n*soma_x2 - soma_x**2) * (n*soma_y2 - soma_y**2)\n",
        "\n",
        "print(Rn/raiz_quadrada(Rd))\n"
      ],
      "metadata": {
        "id": "SRtrA_-Eabxt",
        "colab": {
          "base_uri": "https://localhost:8080/"
        },
        "outputId": "45fff274-144f-441c-cfc4-544071c7cf31"
      },
      "execution_count": null,
      "outputs": [
        {
          "output_type": "stream",
          "name": "stdout",
          "text": [
            "1.0\n"
          ]
        }
      ]
    },
    {
      "cell_type": "code",
      "source": [
        "#Alessandro\n",
        "\n",
        "def E(x, y):\n",
        "    resultado = 1\n",
        "    for _ in range(y):\n",
        "        resultado *= x\n",
        "    return resultado\n",
        "\n",
        "def calcular_formula(n, x, y):\n",
        "    resultado_e = E(x, y)\n",
        "    resultado_final = n * resultado_e - E(x, y) * E(y, x) * n\n",
        "    return resultado_final\n",
        "\n",
        "# Exemplo de uso do programa\n",
        "valor_n = 2\n",
        "valor_x = 3\n",
        "valor_y = 4\n",
        "\n",
        "resultado = calcular_formula(valor_n, valor_x, valor_y)\n",
        "print(\"O resultado da fórmula é:\", resultado)"
      ],
      "metadata": {
        "id": "rWKQ6CSGaeCc",
        "colab": {
          "base_uri": "https://localhost:8080/"
        },
        "outputId": "26efff0f-86c6-432c-caa7-0e534595b16b"
      },
      "execution_count": null,
      "outputs": [
        {
          "output_type": "stream",
          "name": "stdout",
          "text": [
            "O resultado da fórmula é: -10206\n"
          ]
        }
      ]
    },
    {
      "cell_type": "code",
      "source": [
        "#Guilherme\n",
        "def calcular_denominador(x):   # x representa a lista de valores de x,\n",
        "    n = len(x)  # Pega o número de elementos na lista x, e em seguida armazena na variável n\n",
        "    soma_x = sum(x) # Faz a soma dos elementos da lista x, armazenado na variável soma_x.\n",
        "    soma_quadrados_x = sum([i**2 for i in x]) # faz a soma dos quadrados dos elementos da lista x, armazenado na variável soma_quadrados_x.\n",
        "    denominador = n * soma_quadrados_x - soma_x**2\n",
        "    return denominador\n",
        "\n",
        "denominador = calcular_denominador(x)\n",
        "print(denominador)"
      ],
      "metadata": {
        "id": "_yUpNUpsafSD",
        "colab": {
          "base_uri": "https://localhost:8080/"
        },
        "outputId": "9c0e8b78-c5d4-40d2-8baf-a53b24779150"
      },
      "execution_count": null,
      "outputs": [
        {
          "output_type": "stream",
          "name": "stdout",
          "text": [
            "50\n"
          ]
        }
      ]
    },
    {
      "cell_type": "code",
      "source": [
        "#Leonardo"
      ],
      "metadata": {
        "id": "GllYI2oWagyL"
      },
      "execution_count": null,
      "outputs": []
    },
    {
      "cell_type": "code",
      "source": [
        "#Marcio\n",
        "\n",
        "\n",
        "soma_y = sum(y)\n",
        "soma_x = sum(x)\n",
        "\n",
        "resultado = soma_y - soma_x * 1 #Para o valor de (a) ultilizei 1, se for dividir por qualquer numero,\n",
        "                                #no caso (n), só ultilizar /(n) no final.\n",
        "print(resultado)\n"
      ],
      "metadata": {
        "id": "qRrX3I26aigz",
        "colab": {
          "base_uri": "https://localhost:8080/"
        },
        "outputId": "3b5e0285-6bc7-4928-a3d4-91fc5e4005bc"
      },
      "execution_count": null,
      "outputs": [
        {
          "output_type": "stream",
          "name": "stdout",
          "text": [
            "25\n"
          ]
        }
      ]
    },
    {
      "cell_type": "code",
      "source": [
        "#Vinicius\n",
        "\n",
        "resultado = (n * soma_XxY) - (soma_x * soma_y)\n",
        "print(resultado)"
      ],
      "metadata": {
        "id": "VVVLF5xBajbz",
        "colab": {
          "base_uri": "https://localhost:8080/"
        },
        "outputId": "11d4344b-3070-4eac-f157-2d19b4efee7d"
      },
      "execution_count": null,
      "outputs": [
        {
          "output_type": "stream",
          "name": "stdout",
          "text": [
            "50\n"
          ]
        }
      ]
    },
    {
      "cell_type": "markdown",
      "source": [
        "#CODIGO COMPLETO"
      ],
      "metadata": {
        "id": "2uBv8QMdChcW"
      }
    },
    {
      "cell_type": "code",
      "source": [
        "#codigo completo Ajustado\n",
        "\n",
        " #definem as listas x e y\n",
        "x = [0,1,2,3,4]\n",
        "y = [0,1,1,4,4]\n",
        "\n",
        "\n",
        "#CALC de n\n",
        "# calcula o valor de n\n",
        "n = len(x)\n",
        "\n",
        "#CALC Soma de X*Y\n",
        "multiplic = list(map(lambda x,y : x*y, x, y)) #calcula a soma dos produtos de cada elemento x pelo y\n",
        "soma_XxY = sum(multiplic) # calcula a soma de todos os elementos da lista\n",
        "\n",
        "#CALC Soma de X²\n",
        "soma_x2 = sum(list(map(lambda x : x**2, x))) #∑x²: elevar ao quadrado cada variável da coluna X e somar no final\n",
        "\n",
        "#CALC Soma de y²\n",
        "soma_y2 = sum(list(map(lambda y : y**2, y))) #calcula a soma dos produtos de cada elemento y pelo y**2\n",
        "\n",
        "#CALC Soma de x\n",
        "soma_x = sum(x) #calcula a soma de todos os elementos da lista x\n",
        "\n",
        "#CALC Soma de y\n",
        "soma_y = sum(y) #alcula a soma de todos os elementos da lista y\n",
        "\n",
        "\n",
        "\n",
        "#Nicolas Y\n",
        "Rn = (n*soma_XxY)-(soma_x*soma_y)\n",
        "def raiz_quadrada(S):\n",
        "    x = S/2  # aproximação inicial\n",
        "    while True:\n",
        "        x_novo = (x + (S/x))/2\n",
        "        if abs(x_novo - x) < 1e-6:  # critério de parada\n",
        "            break\n",
        "        x = x_novo\n",
        "    return x_novo\n",
        "Rd =  (n*soma_x2 - soma_x**2) * (n*soma_y2 - soma_y**2)\n",
        "\n",
        "r = Rn/raiz_quadrada(Rd)\n",
        "print(\"Valor de R:\",r)\n",
        "\n",
        "#Guilherme numeradorA\n",
        "numeradorA = (n * soma_XxY) - (soma_x * soma_y)\n",
        "\n",
        "#Guilherme denominadorA\n",
        "\n",
        "denominadorA = n * soma_x2 - soma_x**2\n",
        "\n",
        "#Resultado do A \n",
        "\n",
        "a = numeradorA / denominadorA\n",
        "print(\"Valor de a:\",a)\n",
        "\n",
        "#Marcio Numerador B\n",
        "\n",
        "numeradorB = soma_y - soma_x * a \n",
        "\n",
        "#Resultado do B\n",
        "b = numeradorB / n\n",
        "print(\"Valor de b:\",b)\n"
      ],
      "metadata": {
        "colab": {
          "base_uri": "https://localhost:8080/"
        },
        "id": "nbyC0HJi2dg6",
        "outputId": "e28782aa-096b-412f-c798-ce557d7f86b9"
      },
      "execution_count": null,
      "outputs": [
        {
          "output_type": "stream",
          "name": "stdout",
          "text": [
            "Valor de R: 0.9296696802013682\n",
            "Valor de a: 1.1\n",
            "Valor de b: -0.2\n"
          ]
        }
      ]
    },
    {
      "cell_type": "code",
      "source": [
        "#codigo completo  final\n",
        "\n",
        "# Pedindo a quantidade de pontos\n",
        "n = int(input(\"Quantidade de elementos: \"))\n",
        "\n",
        "# Inicializando as listas de x e y\n",
        "x = []\n",
        "y = []\n",
        "\n",
        "# Obtendo os numeros de x e y do usuário\n",
        "for i in range(n):\n",
        "    x_i, y_i = map(float, input(\"Digite os numeros de x{} e y{} separadas por espaço: \".format(i+1, i+1)).split())\n",
        "    x.append(x_i)\n",
        "    y.append(y_i)\n",
        "\n",
        "\n",
        "\n",
        "\n",
        "# Exibindo os pontos em uma tabela\n",
        "print(\"\\n\\n\")\n",
        "print(\"Pontos:\")\n",
        "print(\"  x  |  y  \")\n",
        "print(\"-----|-----\")\n",
        "\n",
        "for i in range(n):\n",
        "    print(\"{:.2f} | {:.2f}\".format(x[i], y[i]))\n",
        "\n",
        "#CALC de n\n",
        "# calcula o valor de n\n",
        "\n",
        "\n",
        "#CALC Soma de X*Y\n",
        "multiplic = list(map(lambda x,y : x*y, x, y)) #calcula a soma dos produtos de cada elemento x pelo y\n",
        "soma_XxY = sum(multiplic) # calcula a soma de todos os elementos da lista\n",
        "\n",
        "#CALC Soma de X²\n",
        "soma_x2 = sum(list(map(lambda x : x**2, x))) #∑x²: elevar ao quadrado cada variável da coluna X e somar no final\n",
        "\n",
        "#CALC Soma de y²\n",
        "soma_y2 = sum(list(map(lambda y : y**2, y))) #calcula a soma dos produtos de cada elemento y pelo y**2\n",
        "\n",
        "#CALC Soma de x\n",
        "soma_x = sum(x) #calcula a soma de todos os elementos da lista x\n",
        "\n",
        "#CALC Soma de y\n",
        "soma_y = sum(y) #alcula a soma de todos os elementos da lista y\n",
        "\n",
        "\n",
        "\n",
        "#Nicolas Y\n",
        "Rn = (n*soma_XxY)-(soma_x*soma_y)\n",
        "def raiz_quadrada(S):\n",
        "    x = S/2  # aproximação inicial\n",
        "    while True:\n",
        "        x_novo = (x + (S/x))/2\n",
        "        if abs(x_novo - x) < 1e-6:  # critério de parada\n",
        "            break\n",
        "        x = x_novo\n",
        "    return x_novo\n",
        "Rd =  (n*soma_x2 - soma_x**2) * (n*soma_y2 - soma_y**2)\n",
        "\n",
        "r = Rn/raiz_quadrada(Rd)\n",
        "\n",
        "\n",
        "\n",
        "#Guilherme numeradorA\n",
        "numeradorA = (n * soma_XxY) - (soma_x * soma_y)\n",
        "\n",
        "#Guilherme denominadorA\n",
        "\n",
        "denominadorA = n * soma_x2 - soma_x**2\n",
        "\n",
        "#Resultado do A \n",
        "\n",
        "a = numeradorA / denominadorA\n",
        "\n",
        "\n",
        "#Marcio Numerador B\n",
        "\n",
        "numeradorB = soma_y - soma_x * a \n",
        "\n",
        "#Resultado do B\n",
        "b = numeradorB / n\n",
        "\n",
        "print(\"\\n\")\n",
        "print(\"Valor de a:\",a)\n",
        "print(\"Valor de b:\",b)\n",
        "print(\"Valor de R:\",r)\n",
        "\n",
        "print(\"Função y = {:.2f}x + {:.2f}\".format(a, b))\n",
        "# Analisando o valor de r\n",
        "if r > 0:\n",
        "    print(\"Há uma forte correlação positiva entre x e y.\")\n",
        "elif r < 0:\n",
        "    print(\"Há uma forte correlação negativa entre x e y.\")\n",
        "else:\n",
        "    print(\"Não há uma correlação forte entre x e y.\")\n",
        "\n",
        "#Previsao\n",
        "print(\"\\n\")\n",
        "novoX = int(input(\"Digite o valor de X para prever o Valor de y: \"))\n",
        "\n",
        "novoY = a * novoX + b\n",
        "print(\"Para o valor de X =\",novoX,\"O valor Previsto é y = \",novoY)\n",
        "\n"
      ],
      "metadata": {
        "colab": {
          "base_uri": "https://localhost:8080/"
        },
        "id": "DWI7syPi4lVV",
        "outputId": "aedf778e-8efc-4d67-acf0-8c4d877c5a85"
      },
      "execution_count": null,
      "outputs": [
        {
          "output_type": "stream",
          "name": "stdout",
          "text": [
            "Quantidade de elementos: 10\n",
            "Digite os numeros de x1 e y1 separadas por espaço: 10 1\n",
            "Digite os numeros de x2 e y2 separadas por espaço: 9 1\n",
            "Digite os numeros de x3 e y3 separadas por espaço: 8 1\n",
            "Digite os numeros de x4 e y4 separadas por espaço: 7 2\n",
            "Digite os numeros de x5 e y5 separadas por espaço: 6 2\n",
            "Digite os numeros de x6 e y6 separadas por espaço: 5 2\n",
            "Digite os numeros de x7 e y7 separadas por espaço: 4 3\n",
            "Digite os numeros de x8 e y8 separadas por espaço: 3 3\n",
            "Digite os numeros de x9 e y9 separadas por espaço: 3 3\n",
            "Digite os numeros de x10 e y10 separadas por espaço: 2 4\n",
            "\n",
            "\n",
            "\n",
            "Pontos:\n",
            "  x  |  y  \n",
            "-----|-----\n",
            "10.00 | 1.00\n",
            "9.00 | 1.00\n",
            "8.00 | 1.00\n",
            "7.00 | 2.00\n",
            "6.00 | 2.00\n",
            "5.00 | 2.00\n",
            "4.00 | 3.00\n",
            "3.00 | 3.00\n",
            "3.00 | 3.00\n",
            "2.00 | 4.00\n",
            "\n",
            "\n",
            "Valor de a: -0.35829662261380324\n",
            "Valor de b: 4.242290748898678\n",
            "Valor de R: -0.9542906174099953\n",
            "Função y = -0.36x + 4.24\n",
            "Há uma forte correlação negativa entre x e y.\n",
            "\n",
            "\n",
            "Digite o valor de X para prever o Valor de y: 15\n",
            "Para o valor de X = 15 O valor Previsto é y =  -1.1321585903083706\n"
          ]
        }
      ]
    },
    {
      "cell_type": "code",
      "source": [],
      "metadata": {
        "id": "49mZQ-nqpFkD"
      },
      "execution_count": null,
      "outputs": []
    }
  ],
  "metadata": {
    "colab": {
      "provenance": [],
      "include_colab_link": true
    },
    "kernelspec": {
      "display_name": "Python 3",
      "name": "python3"
    },
    "language_info": {
      "name": "python"
    }
  },
  "nbformat": 4,
  "nbformat_minor": 0
}